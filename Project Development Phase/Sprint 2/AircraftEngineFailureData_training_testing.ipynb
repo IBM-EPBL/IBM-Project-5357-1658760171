{
  "nbformat": 4,
  "nbformat_minor": 0,
  "metadata": {
    "colab": {
      "provenance": [],
      "mount_file_id": "1QIt5d-_XIm4ZdF6llasMzfwIZvhkikdl",
      "authorship_tag": "ABX9TyO2iIk61qRAHg8ATxL/LBmz",
      "include_colab_link": true
    },
    "kernelspec": {
      "name": "python3",
      "display_name": "Python 3"
    },
    "language_info": {
      "name": "python"
    }
  },
  "cells": [
    {
      "cell_type": "markdown",
      "metadata": {
        "id": "view-in-github",
        "colab_type": "text"
      },
      "source": [
        "<a href=\"https://colab.research.google.com/github/IBM-EPBL/IBM-Project-5357-1658760171/blob/main/AircraftEngineFailureData_training_testing.ipynb\" target=\"_parent\"><img src=\"https://colab.research.google.com/assets/colab-badge.svg\" alt=\"Open In Colab\"/></a>"
      ]
    },
    {
      "cell_type": "code",
      "execution_count": null,
      "metadata": {
        "id": "JRqn_wcQfv4v"
      },
      "outputs": [],
      "source": [
        "import pandas as pd\n",
        "import numpy as np\n"
      ]
    },
    {
      "cell_type": "code",
      "source": [
        "test_seq = np.load('/content/drive/MyDrive/colab data source/aircraft engine failure prediction/test_seq.npy', allow_pickle=True)\n",
        "test_seq.shape"
      ],
      "metadata": {
        "colab": {
          "base_uri": "https://localhost:8080/"
        },
        "id": "Zy-MOZgagUHR",
        "outputId": "48e6586a-7ce5-4241-bb74-b56e0e33e803"
      },
      "execution_count": null,
      "outputs": [
        {
          "output_type": "execute_result",
          "data": {
            "text/plain": [
              "(93, 50, 12)"
            ]
          },
          "metadata": {},
          "execution_count": 4
        }
      ]
    },
    {
      "cell_type": "code",
      "source": [
        "train_seq = np.load('/content/drive/MyDrive/colab data source/aircraft engine failure prediction/train_seq.npy',allow_pickle=True)\n",
        "train_seq.shape"
      ],
      "metadata": {
        "colab": {
          "base_uri": "https://localhost:8080/"
        },
        "id": "BfPKiQKbrXyT",
        "outputId": "973a1e74-d2ca-4b08-ce53-b42f8a774943"
      },
      "execution_count": null,
      "outputs": [
        {
          "output_type": "execute_result",
          "data": {
            "text/plain": [
              "(15631, 50, 12)"
            ]
          },
          "metadata": {},
          "execution_count": 5
        }
      ]
    },
    {
      "cell_type": "code",
      "source": [
        "label_array = np.load('/content/drive/MyDrive/colab data source/aircraft engine failure prediction/label_array.npy',allow_pickle=True)\n",
        "label_array.shape"
      ],
      "metadata": {
        "colab": {
          "base_uri": "https://localhost:8080/"
        },
        "id": "Y-O1L6Jav1FG",
        "outputId": "7538d32b-56b1-41f1-d11b-f1cb73f611e4"
      },
      "execution_count": null,
      "outputs": [
        {
          "output_type": "execute_result",
          "data": {
            "text/plain": [
              "(15631, 1)"
            ]
          },
          "metadata": {},
          "execution_count": 6
        }
      ]
    },
    {
      "cell_type": "code",
      "source": [
        "import keras\n",
        "import keras.backend as K\n",
        "from keras.models import Sequential\n",
        "from keras.layers import Dense , LSTM, Dropout\n",
        "from keras.layers.core import Activation\n",
        "from keras.callbacks import EarlyStopping, ModelCheckpoint\n",
        "import random\n",
        "import tensorflow as tf\n",
        "import os"
      ],
      "metadata": {
        "id": "u31OcT6Sr8N6"
      },
      "execution_count": null,
      "outputs": []
    },
    {
      "cell_type": "code",
      "source": [
        "def seed_tensorflow(seed=42):\n",
        "    os.environ['PYTHONHASHSEED'] = str(seed) \n",
        "    random.seed(seed)\n",
        "    np.random.seed(seed)\n",
        "    tf.random.set_seed(seed)\n",
        "    os.environ['TF_DETERMINISTIC_OPS'] = '1' # `pip install tensorflow-determinism` first,使用与tf>2.1\n",
        "    PYTHONHASHSEED=0\n",
        "seed_tensorflow(42)"
      ],
      "metadata": {
        "id": "fOysPoxrvADH"
      },
      "execution_count": null,
      "outputs": []
    },
    {
      "cell_type": "code",
      "source": [
        "def r2_keras(y_true, y_pred):\n",
        "    \"\"\"Coefficient of Determination \n",
        "    \"\"\"\n",
        "    SS_res =  K.sum(K.square( y_true - y_pred ))\n",
        "    SS_tot = K.sum(K.square( y_true - K.mean(y_true) ) )\n",
        "    return ( 1 - SS_res/(SS_tot + K.epsilon()) )"
      ],
      "metadata": {
        "id": "IkT1MsSYvCgl"
      },
      "execution_count": null,
      "outputs": []
    },
    {
      "cell_type": "code",
      "source": [
        "def lstm_train(seq_array, label_array, sequence_length):\n",
        "    # The first layer is an LSTM layer with 80 units followed by another LSTM layer with 40 units. \n",
        "    # Dropout is also applied after each LSTM layer to control overfitting. \n",
        "    # Final layer is a Dense output layer with single unit and linear activation since this is a regression problem.\n",
        "    nb_features = seq_array.shape[2]\n",
        "    nb_out = label_array.shape[1]\n",
        "\n",
        "    model = Sequential()\n",
        "    model.add(LSTM(\n",
        "             input_shape=(sequence_length, nb_features),\n",
        "             units=80,\n",
        "             return_sequences=True))\n",
        "    model.add(Dropout(0.2))\n",
        "    model.add(LSTM(\n",
        "              units=40,\n",
        "              return_sequences=False))\n",
        "    model.add(Dropout(0.2))\n",
        "    model.add(Dense(units=nb_out))\n",
        "    model.add(Activation(\"linear\"))\n",
        "    model.compile(loss='mean_squared_error', optimizer='rmsprop',metrics=['mae',r2_keras])\n",
        "    #\n",
        "    print(model.summary())\n",
        "    \n",
        "    \n",
        "    # fit the network # Commoly used 80 epoches but 50-60 are fine its an early cutoff \n",
        "    history = model.fit(seq_array, label_array, \n",
        "                        epochs=80, batch_size=200, \n",
        "                        validation_split=0.05, verbose=2,\n",
        "                        callbacks = [ModelCheckpoint('best_model_val_r2_keras_' + '{val_r2_keras:.4f}' + '.h5', \n",
        "                                                    monitor='val_r2_keras', \n",
        "                                                    save_best_only = True, \n",
        "                                                    mode = 'max', \n",
        "                                                    verbose=0)])\n",
        "    \n",
        "    # list all data in history\n",
        "    #print(history.history.keys())\n",
        "    \n",
        "    return model, history"
      ],
      "metadata": {
        "id": "Jb69K4jKvS_N"
      },
      "execution_count": null,
      "outputs": []
    },
    {
      "cell_type": "code",
      "source": [
        "sequence_length = 50\n",
        "sequence_cols = ['sensor_11', 'sensor_12', 'sensor_13', 'sensor_15', 'sensor_17',\n",
        "       'sensor_2', 'sensor_20', 'sensor_21', 'sensor_3', 'sensor_4',\n",
        "       'sensor_7', 'sensor_8']"
      ],
      "metadata": {
        "id": "64IPGnAyvjYY"
      },
      "execution_count": null,
      "outputs": []
    },
    {
      "cell_type": "code",
      "source": [
        "model, history = lstm_train(train_seq, label_array, sequence_length)"
      ],
      "metadata": {
        "colab": {
          "base_uri": "https://localhost:8080/"
        },
        "id": "Z0_0_OCpvV-t",
        "outputId": "b8873e47-67bf-40e6-fdab-b741b70d6e4f"
      },
      "execution_count": null,
      "outputs": [
        {
          "output_type": "stream",
          "name": "stdout",
          "text": [
            "Model: \"sequential\"\n",
            "_________________________________________________________________\n",
            " Layer (type)                Output Shape              Param #   \n",
            "=================================================================\n",
            " lstm (LSTM)                 (None, 50, 80)            29760     \n",
            "                                                                 \n",
            " dropout (Dropout)           (None, 50, 80)            0         \n",
            "                                                                 \n",
            " lstm_1 (LSTM)               (None, 40)                19360     \n",
            "                                                                 \n",
            " dropout_1 (Dropout)         (None, 40)                0         \n",
            "                                                                 \n",
            " dense (Dense)               (None, 1)                 41        \n",
            "                                                                 \n",
            " activation (Activation)     (None, 1)                 0         \n",
            "                                                                 \n",
            "=================================================================\n",
            "Total params: 49,161\n",
            "Trainable params: 49,161\n",
            "Non-trainable params: 0\n",
            "_________________________________________________________________\n",
            "None\n",
            "Epoch 1/80\n",
            "75/75 - 19s - loss: 9053.3545 - mae: 76.5547 - r2_keras: -1.7952e+00 - val_loss: 8511.0625 - val_mae: 73.9300 - val_r2_keras: -2.5949e+00 - 19s/epoch - 254ms/step\n",
            "Epoch 2/80\n",
            "75/75 - 15s - loss: 8462.6592 - mae: 73.1384 - r2_keras: -1.6084e+00 - val_loss: 8071.7520 - val_mae: 71.3687 - val_r2_keras: -2.3865e+00 - 15s/epoch - 202ms/step\n",
            "Epoch 3/80\n",
            "75/75 - 14s - loss: 8031.4341 - mae: 70.6372 - r2_keras: -1.4727e+00 - val_loss: 7653.9878 - val_mae: 68.9441 - val_r2_keras: -2.1895e+00 - 14s/epoch - 183ms/step\n",
            "Epoch 4/80\n",
            "75/75 - 14s - loss: 7621.9146 - mae: 68.2815 - r2_keras: -1.3496e+00 - val_loss: 7254.4849 - val_mae: 66.6366 - val_r2_keras: -2.0023e+00 - 14s/epoch - 180ms/step\n",
            "Epoch 5/80\n",
            "75/75 - 14s - loss: 7234.4385 - mae: 66.0503 - r2_keras: -1.2301e+00 - val_loss: 6875.6816 - val_mae: 64.4600 - val_r2_keras: -1.8261e+00 - 14s/epoch - 180ms/step\n",
            "Epoch 6/80\n",
            "75/75 - 14s - loss: 6861.1401 - mae: 63.9297 - r2_keras: -1.1126e+00 - val_loss: 6513.3984 - val_mae: 62.3903 - val_r2_keras: -1.6589e+00 - 14s/epoch - 182ms/step\n",
            "Epoch 7/80\n",
            "75/75 - 13s - loss: 6497.5688 - mae: 61.8972 - r2_keras: -9.9939e-01 - val_loss: 6171.2437 - val_mae: 60.4482 - val_r2_keras: -1.5024e+00 - 13s/epoch - 180ms/step\n",
            "Epoch 8/80\n",
            "75/75 - 14s - loss: 6168.2412 - mae: 60.0630 - r2_keras: -9.0303e-01 - val_loss: 5847.0005 - val_mae: 58.6210 - val_r2_keras: -1.3556e+00 - 14s/epoch - 182ms/step\n",
            "Epoch 9/80\n",
            "75/75 - 13s - loss: 5843.6743 - mae: 58.2523 - r2_keras: -7.9888e-01 - val_loss: 5541.1919 - val_mae: 56.9117 - val_r2_keras: -1.2187e+00 - 13s/epoch - 179ms/step\n",
            "Epoch 10/80\n",
            "75/75 - 14s - loss: 5545.0400 - mae: 56.6028 - r2_keras: -7.1124e-01 - val_loss: 5255.0054 - val_mae: 55.3269 - val_r2_keras: -1.0923e+00 - 14s/epoch - 182ms/step\n",
            "Epoch 11/80\n",
            "75/75 - 14s - loss: 5278.2339 - mae: 55.1072 - r2_keras: -6.2317e-01 - val_loss: 4987.1792 - val_mae: 53.8594 - val_r2_keras: -9.7566e-01 - 14s/epoch - 181ms/step\n",
            "Epoch 12/80\n",
            "75/75 - 14s - loss: 5012.3130 - mae: 53.7191 - r2_keras: -5.3967e-01 - val_loss: 4738.4561 - val_mae: 52.5134 - val_r2_keras: -8.6926e-01 - 14s/epoch - 182ms/step\n",
            "Epoch 13/80\n",
            "75/75 - 14s - loss: 4779.3423 - mae: 52.4908 - r2_keras: -4.6830e-01 - val_loss: 4507.4810 - val_mae: 51.2814 - val_r2_keras: -7.7247e-01 - 14s/epoch - 182ms/step\n",
            "Epoch 14/80\n",
            "75/75 - 14s - loss: 4548.8081 - mae: 51.2600 - r2_keras: -3.9727e-01 - val_loss: 4297.8584 - val_mae: 50.1823 - val_r2_keras: -6.8674e-01 - 14s/epoch - 184ms/step\n",
            "Epoch 15/80\n",
            "75/75 - 14s - loss: 4355.4565 - mae: 50.3135 - r2_keras: -3.3696e-01 - val_loss: 4104.7007 - val_mae: 49.1902 - val_r2_keras: -6.1007e-01 - 14s/epoch - 182ms/step\n",
            "Epoch 16/80\n",
            "75/75 - 16s - loss: 4157.9116 - mae: 49.3208 - r2_keras: -2.7655e-01 - val_loss: 3929.4053 - val_mae: 48.3128 - val_r2_keras: -5.4304e-01 - 16s/epoch - 207ms/step\n",
            "Epoch 17/80\n",
            "75/75 - 14s - loss: 3999.4861 - mae: 48.5262 - r2_keras: -2.2953e-01 - val_loss: 3771.9502 - val_mae: 47.5499 - val_r2_keras: -4.8565e-01 - 14s/epoch - 182ms/step\n",
            "Epoch 18/80\n",
            "75/75 - 14s - loss: 3859.7341 - mae: 47.9041 - r2_keras: -1.8390e-01 - val_loss: 3637.8062 - val_mae: 46.9263 - val_r2_keras: -4.3973e-01 - 14s/epoch - 181ms/step\n",
            "Epoch 19/80\n",
            "75/75 - 14s - loss: 3724.1714 - mae: 47.3272 - r2_keras: -1.4306e-01 - val_loss: 3518.4080 - val_mae: 46.4016 - val_r2_keras: -4.0223e-01 - 14s/epoch - 181ms/step\n",
            "Epoch 20/80\n",
            "75/75 - 14s - loss: 3617.8560 - mae: 46.8851 - r2_keras: -1.0967e-01 - val_loss: 3417.1831 - val_mae: 45.9911 - val_r2_keras: -3.7430e-01 - 14s/epoch - 180ms/step\n",
            "Epoch 21/80\n",
            "75/75 - 14s - loss: 3514.3157 - mae: 46.4731 - r2_keras: -7.9806e-02 - val_loss: 3334.8140 - val_mae: 45.6957 - val_r2_keras: -3.5592e-01 - 14s/epoch - 180ms/step\n",
            "Epoch 22/80\n",
            "75/75 - 14s - loss: 3444.6750 - mae: 46.2675 - r2_keras: -5.7230e-02 - val_loss: 3270.7942 - val_mae: 45.5107 - val_r2_keras: -3.4657e-01 - 14s/epoch - 180ms/step\n",
            "Epoch 23/80\n",
            "75/75 - 14s - loss: 3388.2810 - mae: 46.1485 - r2_keras: -4.3546e-02 - val_loss: 3225.4731 - val_mae: 45.4282 - val_r2_keras: -3.4527e-01 - 14s/epoch - 182ms/step\n",
            "Epoch 24/80\n",
            "75/75 - 14s - loss: 3359.8184 - mae: 46.1805 - r2_keras: -3.1856e-02 - val_loss: 3195.8503 - val_mae: 45.4243 - val_r2_keras: -3.5011e-01 - 14s/epoch - 181ms/step\n",
            "Epoch 25/80\n",
            "75/75 - 13s - loss: 3326.7429 - mae: 46.0877 - r2_keras: -2.3229e-02 - val_loss: 3179.0537 - val_mae: 45.4742 - val_r2_keras: -3.5864e-01 - 13s/epoch - 180ms/step\n",
            "Epoch 26/80\n",
            "75/75 - 14s - loss: 3312.3481 - mae: 46.1925 - r2_keras: -1.6766e-02 - val_loss: 3170.9988 - val_mae: 45.5496 - val_r2_keras: -3.6852e-01 - 14s/epoch - 181ms/step\n",
            "Epoch 27/80\n",
            "75/75 - 14s - loss: 3318.4817 - mae: 46.3584 - r2_keras: -1.8567e-02 - val_loss: 3168.6455 - val_mae: 45.6056 - val_r2_keras: -3.7525e-01 - 14s/epoch - 180ms/step\n",
            "Epoch 28/80\n",
            "75/75 - 14s - loss: 3311.0386 - mae: 46.3653 - r2_keras: -2.0069e-02 - val_loss: 3168.2625 - val_mae: 45.6243 - val_r2_keras: -3.7731e-01 - 14s/epoch - 181ms/step\n",
            "Epoch 29/80\n",
            "75/75 - 14s - loss: 3317.1838 - mae: 46.3885 - r2_keras: -2.0384e-02 - val_loss: 3167.9485 - val_mae: 45.6492 - val_r2_keras: -3.8017e-01 - 14s/epoch - 181ms/step\n",
            "Epoch 30/80\n",
            "75/75 - 13s - loss: 3303.4114 - mae: 46.3290 - r2_keras: -1.5451e-02 - val_loss: 3167.8801 - val_mae: 45.6606 - val_r2_keras: -3.8152e-01 - 13s/epoch - 179ms/step\n",
            "Epoch 31/80\n",
            "75/75 - 15s - loss: 3321.2146 - mae: 46.4296 - r2_keras: -2.0103e-02 - val_loss: 3167.8608 - val_mae: 45.6682 - val_r2_keras: -3.8244e-01 - 15s/epoch - 206ms/step\n",
            "Epoch 32/80\n",
            "75/75 - 14s - loss: 3317.9355 - mae: 46.4746 - r2_keras: -2.0790e-02 - val_loss: 3167.8613 - val_mae: 45.6757 - val_r2_keras: -3.8325e-01 - 14s/epoch - 180ms/step\n",
            "Epoch 33/80\n",
            "75/75 - 13s - loss: 3312.1794 - mae: 46.4396 - r2_keras: -1.9431e-02 - val_loss: 3167.8604 - val_mae: 45.6747 - val_r2_keras: -3.8314e-01 - 13s/epoch - 180ms/step\n",
            "Epoch 34/80\n",
            "75/75 - 13s - loss: 3307.0251 - mae: 46.3807 - r2_keras: -1.7668e-02 - val_loss: 3167.8701 - val_mae: 45.6809 - val_r2_keras: -3.8379e-01 - 13s/epoch - 179ms/step\n",
            "Epoch 35/80\n",
            "75/75 - 14s - loss: 3304.1426 - mae: 46.4208 - r2_keras: -1.6879e-02 - val_loss: 3167.8599 - val_mae: 45.6744 - val_r2_keras: -3.8311e-01 - 14s/epoch - 180ms/step\n",
            "Epoch 36/80\n",
            "75/75 - 13s - loss: 3307.1672 - mae: 46.0326 - r2_keras: -1.5085e-02 - val_loss: 2623.9802 - val_mae: 40.3848 - val_r2_keras: -8.7953e-02 - 13s/epoch - 180ms/step\n",
            "Epoch 37/80\n",
            "75/75 - 13s - loss: 2859.5730 - mae: 41.0660 - r2_keras: 0.1197 - val_loss: 2238.6328 - val_mae: 35.9767 - val_r2_keras: 0.1126 - 13s/epoch - 180ms/step\n",
            "Epoch 38/80\n",
            "75/75 - 14s - loss: 2354.3672 - mae: 34.8168 - r2_keras: 0.2766 - val_loss: 1910.8151 - val_mae: 29.7990 - val_r2_keras: 0.2879 - 14s/epoch - 181ms/step\n",
            "Epoch 39/80\n",
            "75/75 - 14s - loss: 2042.2699 - mae: 30.9034 - r2_keras: 0.3776 - val_loss: 2042.8066 - val_mae: 33.4439 - val_r2_keras: 0.2451 - 14s/epoch - 182ms/step\n",
            "Epoch 40/80\n",
            "75/75 - 14s - loss: 1867.1307 - mae: 28.8584 - r2_keras: 0.4291 - val_loss: 1838.6339 - val_mae: 28.2660 - val_r2_keras: 0.3782 - 14s/epoch - 187ms/step\n",
            "Epoch 41/80\n",
            "75/75 - 15s - loss: 1757.7197 - mae: 27.6322 - r2_keras: 0.4634 - val_loss: 1547.3137 - val_mae: 26.7423 - val_r2_keras: 0.4346 - 15s/epoch - 204ms/step\n",
            "Epoch 42/80\n",
            "75/75 - 14s - loss: 1635.7546 - mae: 26.2971 - r2_keras: 0.4991 - val_loss: 1504.7979 - val_mae: 26.0644 - val_r2_keras: 0.4285 - 14s/epoch - 183ms/step\n",
            "Epoch 43/80\n",
            "75/75 - 16s - loss: 1524.3257 - mae: 25.1692 - r2_keras: 0.5359 - val_loss: 1328.3010 - val_mae: 23.3598 - val_r2_keras: 0.5482 - 16s/epoch - 211ms/step\n",
            "Epoch 44/80\n",
            "75/75 - 14s - loss: 1449.1383 - mae: 24.4910 - r2_keras: 0.5589 - val_loss: 1294.5167 - val_mae: 23.4583 - val_r2_keras: 0.5254 - 14s/epoch - 184ms/step\n",
            "Epoch 45/80\n",
            "75/75 - 14s - loss: 1373.9299 - mae: 23.7028 - r2_keras: 0.5819 - val_loss: 1891.9869 - val_mae: 27.7543 - val_r2_keras: 0.3690 - 14s/epoch - 185ms/step\n",
            "Epoch 46/80\n",
            "75/75 - 16s - loss: 1306.2781 - mae: 22.9211 - r2_keras: 0.5998 - val_loss: 1301.8762 - val_mae: 24.4065 - val_r2_keras: 0.4640 - 16s/epoch - 210ms/step\n",
            "Epoch 47/80\n",
            "75/75 - 14s - loss: 1246.3918 - mae: 22.4472 - r2_keras: 0.6184 - val_loss: 1255.9467 - val_mae: 21.1108 - val_r2_keras: 0.5788 - 14s/epoch - 190ms/step\n",
            "Epoch 48/80\n",
            "75/75 - 14s - loss: 1184.3453 - mae: 21.9056 - r2_keras: 0.6391 - val_loss: 1137.3615 - val_mae: 22.7686 - val_r2_keras: 0.5502 - 14s/epoch - 186ms/step\n",
            "Epoch 49/80\n",
            "75/75 - 14s - loss: 1141.9752 - mae: 21.4370 - r2_keras: 0.6536 - val_loss: 1080.4905 - val_mae: 22.0139 - val_r2_keras: 0.6221 - 14s/epoch - 186ms/step\n",
            "Epoch 50/80\n",
            "75/75 - 14s - loss: 1083.9053 - mae: 20.8958 - r2_keras: 0.6702 - val_loss: 1452.1498 - val_mae: 23.5098 - val_r2_keras: 0.5110 - 14s/epoch - 185ms/step\n",
            "Epoch 51/80\n",
            "75/75 - 14s - loss: 1052.7870 - mae: 20.7112 - r2_keras: 0.6786 - val_loss: 1000.1713 - val_mae: 20.9604 - val_r2_keras: 0.6412 - 14s/epoch - 185ms/step\n",
            "Epoch 52/80\n",
            "75/75 - 14s - loss: 1028.2604 - mae: 20.5128 - r2_keras: 0.6864 - val_loss: 1123.2744 - val_mae: 23.7273 - val_r2_keras: 0.5029 - 14s/epoch - 182ms/step\n",
            "Epoch 53/80\n",
            "75/75 - 14s - loss: 992.2369 - mae: 20.1876 - r2_keras: 0.6980 - val_loss: 1090.0071 - val_mae: 22.4848 - val_r2_keras: 0.6164 - 14s/epoch - 183ms/step\n",
            "Epoch 54/80\n",
            "75/75 - 14s - loss: 936.2997 - mae: 19.7007 - r2_keras: 0.7147 - val_loss: 978.8020 - val_mae: 20.0905 - val_r2_keras: 0.6500 - 14s/epoch - 184ms/step\n",
            "Epoch 55/80\n",
            "75/75 - 14s - loss: 931.2487 - mae: 19.5957 - r2_keras: 0.7141 - val_loss: 942.8307 - val_mae: 20.1165 - val_r2_keras: 0.6574 - 14s/epoch - 184ms/step\n",
            "Epoch 56/80\n",
            "75/75 - 14s - loss: 890.4273 - mae: 19.2907 - r2_keras: 0.7277 - val_loss: 974.4185 - val_mae: 19.8677 - val_r2_keras: 0.6606 - 14s/epoch - 182ms/step\n",
            "Epoch 57/80\n",
            "75/75 - 14s - loss: 876.4667 - mae: 19.1984 - r2_keras: 0.7325 - val_loss: 1011.1211 - val_mae: 21.7709 - val_r2_keras: 0.6319 - 14s/epoch - 184ms/step\n",
            "Epoch 58/80\n",
            "75/75 - 14s - loss: 861.6574 - mae: 19.1567 - r2_keras: 0.7378 - val_loss: 959.0032 - val_mae: 19.9265 - val_r2_keras: 0.6071 - 14s/epoch - 183ms/step\n",
            "Epoch 59/80\n",
            "75/75 - 14s - loss: 847.0118 - mae: 18.9098 - r2_keras: 0.7398 - val_loss: 1015.5226 - val_mae: 23.1554 - val_r2_keras: 0.5795 - 14s/epoch - 185ms/step\n",
            "Epoch 60/80\n",
            "75/75 - 14s - loss: 826.8328 - mae: 18.7624 - r2_keras: 0.7471 - val_loss: 866.5304 - val_mae: 20.4032 - val_r2_keras: 0.6501 - 14s/epoch - 184ms/step\n",
            "Epoch 61/80\n",
            "75/75 - 16s - loss: 815.8867 - mae: 18.5943 - r2_keras: 0.7509 - val_loss: 1065.5757 - val_mae: 23.5833 - val_r2_keras: 0.4986 - 16s/epoch - 209ms/step\n",
            "Epoch 62/80\n",
            "75/75 - 14s - loss: 795.6854 - mae: 18.4429 - r2_keras: 0.7559 - val_loss: 1079.0664 - val_mae: 19.9428 - val_r2_keras: 0.6268 - 14s/epoch - 183ms/step\n",
            "Epoch 63/80\n",
            "75/75 - 14s - loss: 779.6339 - mae: 18.3377 - r2_keras: 0.7614 - val_loss: 945.1160 - val_mae: 21.0947 - val_r2_keras: 0.5795 - 14s/epoch - 183ms/step\n",
            "Epoch 64/80\n",
            "75/75 - 14s - loss: 770.7613 - mae: 18.3019 - r2_keras: 0.7636 - val_loss: 1070.3145 - val_mae: 22.2124 - val_r2_keras: 0.5985 - 14s/epoch - 183ms/step\n",
            "Epoch 65/80\n",
            "75/75 - 14s - loss: 761.9223 - mae: 18.2055 - r2_keras: 0.7662 - val_loss: 1002.6178 - val_mae: 22.1917 - val_r2_keras: 0.5470 - 14s/epoch - 183ms/step\n",
            "Epoch 66/80\n",
            "75/75 - 14s - loss: 764.8054 - mae: 18.2307 - r2_keras: 0.7648 - val_loss: 826.3990 - val_mae: 19.3447 - val_r2_keras: 0.6579 - 14s/epoch - 184ms/step\n",
            "Epoch 67/80\n",
            "75/75 - 14s - loss: 742.9409 - mae: 18.0055 - r2_keras: 0.7720 - val_loss: 857.3802 - val_mae: 19.3669 - val_r2_keras: 0.6662 - 14s/epoch - 184ms/step\n",
            "Epoch 68/80\n",
            "75/75 - 14s - loss: 736.0754 - mae: 17.8692 - r2_keras: 0.7751 - val_loss: 870.2416 - val_mae: 20.3525 - val_r2_keras: 0.6266 - 14s/epoch - 183ms/step\n",
            "Epoch 69/80\n",
            "75/75 - 14s - loss: 725.4383 - mae: 17.8072 - r2_keras: 0.7778 - val_loss: 1083.7188 - val_mae: 23.4535 - val_r2_keras: 0.4452 - 14s/epoch - 181ms/step\n",
            "Epoch 70/80\n",
            "75/75 - 14s - loss: 725.2142 - mae: 17.8451 - r2_keras: 0.7775 - val_loss: 851.8943 - val_mae: 19.0608 - val_r2_keras: 0.6190 - 14s/epoch - 183ms/step\n",
            "Epoch 71/80\n",
            "75/75 - 14s - loss: 716.3599 - mae: 17.7945 - r2_keras: 0.7813 - val_loss: 1167.9156 - val_mae: 24.8624 - val_r2_keras: 0.3933 - 14s/epoch - 182ms/step\n",
            "Epoch 72/80\n",
            "75/75 - 14s - loss: 707.4291 - mae: 17.6008 - r2_keras: 0.7828 - val_loss: 1240.5460 - val_mae: 23.6539 - val_r2_keras: 0.3476 - 14s/epoch - 183ms/step\n",
            "Epoch 73/80\n",
            "75/75 - 14s - loss: 704.9660 - mae: 17.5943 - r2_keras: 0.7834 - val_loss: 1213.0387 - val_mae: 24.5021 - val_r2_keras: 0.4780 - 14s/epoch - 182ms/step\n",
            "Epoch 74/80\n",
            "75/75 - 14s - loss: 687.8702 - mae: 17.3964 - r2_keras: 0.7884 - val_loss: 940.6255 - val_mae: 21.2622 - val_r2_keras: 0.5983 - 14s/epoch - 181ms/step\n",
            "Epoch 75/80\n",
            "75/75 - 14s - loss: 692.3787 - mae: 17.4067 - r2_keras: 0.7884 - val_loss: 1021.8887 - val_mae: 21.5794 - val_r2_keras: 0.4836 - 14s/epoch - 184ms/step\n",
            "Epoch 76/80\n",
            "75/75 - 16s - loss: 686.5096 - mae: 17.4447 - r2_keras: 0.7888 - val_loss: 950.3130 - val_mae: 19.9233 - val_r2_keras: 0.6548 - 16s/epoch - 208ms/step\n",
            "Epoch 77/80\n",
            "75/75 - 14s - loss: 668.1668 - mae: 17.1576 - r2_keras: 0.7946 - val_loss: 970.4239 - val_mae: 20.3189 - val_r2_keras: 0.5239 - 14s/epoch - 184ms/step\n",
            "Epoch 78/80\n",
            "75/75 - 14s - loss: 675.1857 - mae: 17.2803 - r2_keras: 0.7931 - val_loss: 974.2011 - val_mae: 21.8852 - val_r2_keras: 0.5512 - 14s/epoch - 180ms/step\n",
            "Epoch 79/80\n",
            "75/75 - 14s - loss: 661.9048 - mae: 17.1516 - r2_keras: 0.7959 - val_loss: 1215.4207 - val_mae: 24.3990 - val_r2_keras: 0.3826 - 14s/epoch - 182ms/step\n",
            "Epoch 80/80\n",
            "75/75 - 14s - loss: 658.4543 - mae: 17.0716 - r2_keras: 0.7972 - val_loss: 829.3187 - val_mae: 19.2308 - val_r2_keras: 0.6272 - 14s/epoch - 183ms/step\n"
          ]
        }
      ]
    },
    {
      "cell_type": "code",
      "source": [
        "model.save('/content/drive/MyDrive/colab data source/aircraft engine failure prediction/LSTM_model.h5')"
      ],
      "metadata": {
        "id": "dXHfskDjE6JR"
      },
      "execution_count": null,
      "outputs": []
    },
    {
      "cell_type": "code",
      "source": [
        "hist_df = pd.DataFrame(data = np.array([history.history['r2_keras'],history.history['val_r2_keras']]).T, \n",
        "                       columns = ['r2_keras', 'val_r2_keras'])\n",
        "hist_df.plot()"
      ],
      "metadata": {
        "colab": {
          "base_uri": "https://localhost:8080/",
          "height": 282
        },
        "id": "ktY-bak-vbNd",
        "outputId": "0d21ecb4-1241-4420-bf56-b83b66708816"
      },
      "execution_count": null,
      "outputs": [
        {
          "output_type": "execute_result",
          "data": {
            "text/plain": [
              "<matplotlib.axes._subplots.AxesSubplot at 0x7f59dd969e10>"
            ]
          },
          "metadata": {},
          "execution_count": 13
        },
        {
          "output_type": "display_data",
          "data": {
            "text/plain": [
              "<Figure size 432x288 with 1 Axes>"
            ],
            "image/png": "[encoded data removed]"
          },
          "metadata": {
            "needs_background": "light"
          }
        }
      ]
    },
    {
      "cell_type": "code",
      "source": [
        "hist_df = pd.DataFrame(data = np.array([history.history['mae'],history.history['val_mae']]).T, \n",
        "                       columns = ['mae', 'val_mae'])\n",
        "hist_df.plot()"
      ],
      "metadata": {
        "colab": {
          "base_uri": "https://localhost:8080/",
          "height": 282
        },
        "id": "CamqrTAa2kVl",
        "outputId": "0520af66-81c1-46f2-815c-09ef0f55d46e"
      },
      "execution_count": null,
      "outputs": [
        {
          "output_type": "execute_result",
          "data": {
            "text/plain": [
              "<matplotlib.axes._subplots.AxesSubplot at 0x7f59dd864b10>"
            ]
          },
          "metadata": {},
          "execution_count": 14
        },
        {
          "output_type": "display_data",
          "data": {
            "text/plain": [
              "<Figure size 432x288 with 1 Axes>"
            ],
            "image/png": "[encoded data removed]"
          },
          "metadata": {
            "needs_background": "light"
          }
        }
      ]
    },
    {
      "cell_type": "code",
      "source": [
        "hist_df = pd.DataFrame(data = np.array([history.history['loss'],history.history['val_loss']]).T, \n",
        "                       columns = ['loss', 'val_loss'])\n",
        "hist_df.plot()"
      ],
      "metadata": {
        "colab": {
          "base_uri": "https://localhost:8080/",
          "height": 282
        },
        "id": "bt-SgXPj27nE",
        "outputId": "51c5fd3a-3e6a-40ea-d266-1ab32a0f9f61"
      },
      "execution_count": null,
      "outputs": [
        {
          "output_type": "execute_result",
          "data": {
            "text/plain": [
              "<matplotlib.axes._subplots.AxesSubplot at 0x7f59dd807d90>"
            ]
          },
          "metadata": {},
          "execution_count": 15
        },
        {
          "output_type": "display_data",
          "data": {
            "text/plain": [
              "<Figure size 432x288 with 1 Axes>"
            ],
            "image/png": "[encoded data removed]"
          },
          "metadata": {
            "needs_background": "light"
          }
        }
      ]
    },
    {
      "cell_type": "code",
      "source": [
        "test_seq = np.asarray(test_seq).astype(np.float32)"
      ],
      "metadata": {
        "id": "5VFHzZTw5LA5"
      },
      "execution_count": null,
      "outputs": []
    },
    {
      "cell_type": "code",
      "source": [
        "y_pred_test = model.predict(test_seq,verbose=1, batch_size=200)"
      ],
      "metadata": {
        "colab": {
          "base_uri": "https://localhost:8080/"
        },
        "id": "9eIOvOHY3LI9",
        "outputId": "86ba9755-97fa-4188-d897-5274170a783f"
      },
      "execution_count": null,
      "outputs": [
        {
          "output_type": "stream",
          "name": "stdout",
          "text": [
            "1/1 [==============================] - 1s 841ms/step\n"
          ]
        }
      ]
    },
    {
      "cell_type": "code",
      "source": [],
      "metadata": {
        "id": "9Tgx3ADw3Sr0"
      },
      "execution_count": null,
      "outputs": []
    }
  ]
}